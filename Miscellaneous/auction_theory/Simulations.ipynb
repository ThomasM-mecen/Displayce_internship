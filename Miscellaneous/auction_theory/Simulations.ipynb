{
 "cells": [
  {
   "cell_type": "code",
   "execution_count": 1,
   "metadata": {},
   "outputs": [],
   "source": [
    "import numpy as np\n",
    "from statistics import mean "
   ]
  },
  {
   "cell_type": "markdown",
   "metadata": {},
   "source": [
    "# Uniform properties simulation"
   ]
  },
  {
   "cell_type": "code",
   "execution_count": 214,
   "metadata": {},
   "outputs": [],
   "source": [
    "def verif_uniform(n,number_occurence):\n",
    "    \"\"\"This function verify the fact that the expected highest draw of a U[0,1] is equal to N/N+1.\n",
    "    n is the number of draws and number_occurence is the number of time we repeat the draws.\"\"\"\n",
    "    max_unif = []\n",
    "    cible = round(n/(n+1),2)\n",
    "    for i in range(number_occurence):\n",
    "        max_unif.append(np.random.uniform(low=0.0, high=1.0, size=n).max())\n",
    "    result = round(mean(max_unif),2)\n",
    "    return print(\"The average maximal draw is {} and theoretically it should be {}\".format(result,cible))"
   ]
  },
  {
   "cell_type": "code",
   "execution_count": 215,
   "metadata": {
    "scrolled": true
   },
   "outputs": [
    {
     "name": "stdout",
     "output_type": "stream",
     "text": [
      "The average maximal draw is 0.67 and theoretically it should be 0.67...0.22445000000000004\n"
     ]
    }
   ],
   "source": [
    "verif_uniform(2,10000)"
   ]
  },
  {
   "cell_type": "markdown",
   "metadata": {},
   "source": [
    "# Auctions simulations"
   ]
  },
  {
   "cell_type": "code",
   "execution_count": 188,
   "metadata": {},
   "outputs": [],
   "source": [
    "def draw_unif(n):\n",
    "    \"\"\"Draw valuations of N players\"\"\"\n",
    "    valuations = np.random.uniform(low=0.0, high=1.0, size=n).tolist()\n",
    "    valuations.sort(reverse=True)\n",
    "    return valuations"
   ]
  },
  {
   "cell_type": "code",
   "execution_count": 263,
   "metadata": {},
   "outputs": [],
   "source": [
    "def second_price(number_occurence):\n",
    "    \"\"\"This the simulation of a second-price auction with 2 players\"\"\"\n",
    "    s = []\n",
    "    vi = []\n",
    "    cible = round(2/9,2)\n",
    "    for i in range(number_occurence):\n",
    "        v = draw_unif(2)\n",
    "        vi.append(max(v))\n",
    "        s.append(v[0]-v[1])\n",
    "    proba = mean(vi)\n",
    "    esurplus = round(proba * mean(s),2)\n",
    "    return print(\"The expected surplus of this auction is {} and theoretically it should be {}\".format(esurplus,cible))"
   ]
  },
  {
   "cell_type": "code",
   "execution_count": 265,
   "metadata": {},
   "outputs": [],
   "source": [
    "def first_price(number_occurence):\n",
    "    \"\"\"This the simulation of a first-price auction with 2 players\"\"\"\n",
    "    s = []\n",
    "    vi = []\n",
    "    cible = round(2/9,2)\n",
    "    for i in range(number_occurence):\n",
    "        v = draw_unif(2)\n",
    "        vi.append(max(v))\n",
    "        s.append(v[0]-v[0]/2)\n",
    "    proba = mean(vi)\n",
    "    esurplus = round(proba * mean(s),2)\n",
    "    return print(\"The expected surplus of this auction is {} and theoretically it should be {}\".format(esurplus,cible))   "
   ]
  },
  {
   "cell_type": "code",
   "execution_count": 267,
   "metadata": {},
   "outputs": [
    {
     "name": "stdout",
     "output_type": "stream",
     "text": [
      "The expected surplus of this auction is 0.22 and theoretically it should be 0.22\n"
     ]
    }
   ],
   "source": [
    "second_price(10000)"
   ]
  },
  {
   "cell_type": "code",
   "execution_count": 266,
   "metadata": {},
   "outputs": [
    {
     "name": "stdout",
     "output_type": "stream",
     "text": [
      "The expected surplus of this auction is 0.22 and theoretically it should be 0.22\n"
     ]
    }
   ],
   "source": [
    "first_price(10000)"
   ]
  }
 ],
 "metadata": {
  "kernelspec": {
   "display_name": "Python 3",
   "language": "python",
   "name": "python3"
  },
  "language_info": {
   "codemirror_mode": {
    "name": "ipython",
    "version": 3
   },
   "file_extension": ".py",
   "mimetype": "text/x-python",
   "name": "python",
   "nbconvert_exporter": "python",
   "pygments_lexer": "ipython3",
   "version": "3.7.6"
  }
 },
 "nbformat": 4,
 "nbformat_minor": 4
}
