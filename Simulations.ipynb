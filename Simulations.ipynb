{
 "cells": [
  {
   "cell_type": "code",
   "execution_count": 11,
   "metadata": {},
   "outputs": [],
   "source": [
    "import numpy as np\n",
    "from statistics import mean "
   ]
  },
  {
   "cell_type": "code",
   "execution_count": 41,
   "metadata": {},
   "outputs": [],
   "source": [
    "def verif_uniform(n,number_occurence):\n",
    "    \"\"\"This function verify the fact that the expected highest draw of a U[0,1] is equal to N/N+1.\n",
    "    n is the number of draws and number_occurence is the number of time we repeat the draws.\"\"\"\n",
    "    max_unif = []\n",
    "    cible = round(n/(n+1),2)\n",
    "    for i in range(number_occurence):\n",
    "        max_unif.append(np.random.uniform(low=0.0, high=1.0, size=n).max())\n",
    "    result = round(mean(max_unif),2)\n",
    "    return print(\"The average maximal draw is {} and theoretically it should be {}\".format(result,cible))"
   ]
  },
  {
   "cell_type": "code",
   "execution_count": 45,
   "metadata": {},
   "outputs": [
    {
     "name": "stdout",
     "output_type": "stream",
     "text": [
      "The average maximal draw is 0.67 and theoretically it should be 0.67\n"
     ]
    }
   ],
   "source": [
    "verif_uniform(2,10000)"
   ]
  }
 ],
 "metadata": {
  "kernelspec": {
   "display_name": "Python 3",
   "language": "python",
   "name": "python3"
  },
  "language_info": {
   "codemirror_mode": {
    "name": "ipython",
    "version": 3
   },
   "file_extension": ".py",
   "mimetype": "text/x-python",
   "name": "python",
   "nbconvert_exporter": "python",
   "pygments_lexer": "ipython3",
   "version": "3.7.6"
  }
 },
 "nbformat": 4,
 "nbformat_minor": 4
}
