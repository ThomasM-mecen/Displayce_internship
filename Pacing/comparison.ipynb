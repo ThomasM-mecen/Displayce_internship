{
 "cells": [
  {
   "cell_type": "markdown",
   "metadata": {},
   "source": [
    "# Comparison of algorithms"
   ]
  },
  {
   "cell_type": "code",
   "execution_count": 1,
   "metadata": {},
   "outputs": [],
   "source": [
    "import numpy as np\n",
    "from datetime import datetime\n",
    "from datetime import timedelta\n",
    "import pandas as pd\n",
    "import matplotlib.pyplot as plt\n",
    "%matplotlib inline\n",
    "plt.style.use('seaborn')"
   ]
  },
  {
   "cell_type": "code",
   "execution_count": 2,
   "metadata": {},
   "outputs": [],
   "source": [
    "df_vt = pd.read_csv('pacing(vt)_10-07-2020_08-08-2020.csv', index_col=\"Date\", parse_dates=True)\n",
    "df_at = pd.read_csv('pacing(at)_10-07-2020_08-08-2020.csv', index_col=\"Date\", parse_dates=True)\n",
    "df_ev = pd.read_csv('pacing(at_and_evolutive)_10-07-2020_08-08-2020.csv', index_col=\"Date\", parse_dates=True)"
   ]
  },
  {
   "cell_type": "markdown",
   "metadata": {},
   "source": [
    "### Remaining budgets"
   ]
  },
  {
   "cell_type": "code",
   "execution_count": 3,
   "metadata": {},
   "outputs": [],
   "source": [
    "rb_vt = df_vt.remaining_budget.groupby(df_vt.index.day).tail(1)\n",
    "rb_at = df_at.remaining_budget.groupby(df_at.index.day).tail(1)\n",
    "rb_ev = df_ev.remaining_budget.groupby(df_ev.index.day).tail(1)"
   ]
  },
  {
   "cell_type": "code",
   "execution_count": 4,
   "metadata": {},
   "outputs": [],
   "source": [
    "frame = { 'rb_vt': rb_vt, 'rb_at': rb_at, 'rb_ev': rb_ev } \n",
    "result = pd.DataFrame(frame) "
   ]
  },
  {
   "cell_type": "code",
   "execution_count": 5,
   "metadata": {
    "scrolled": false
   },
   "outputs": [
    {
     "data": {
      "text/html": [
       "<div>\n",
       "<style scoped>\n",
       "    .dataframe tbody tr th:only-of-type {\n",
       "        vertical-align: middle;\n",
       "    }\n",
       "\n",
       "    .dataframe tbody tr th {\n",
       "        vertical-align: top;\n",
       "    }\n",
       "\n",
       "    .dataframe thead th {\n",
       "        text-align: right;\n",
       "    }\n",
       "</style>\n",
       "<table border=\"1\" class=\"dataframe\">\n",
       "  <thead>\n",
       "    <tr style=\"text-align: right;\">\n",
       "      <th></th>\n",
       "      <th>rb_vt</th>\n",
       "      <th>rb_at</th>\n",
       "      <th>rb_ev</th>\n",
       "    </tr>\n",
       "    <tr>\n",
       "      <th>Date</th>\n",
       "      <th></th>\n",
       "      <th></th>\n",
       "      <th></th>\n",
       "    </tr>\n",
       "  </thead>\n",
       "  <tbody>\n",
       "    <tr>\n",
       "      <th>2020-07-10 19:50:35</th>\n",
       "      <td>773</td>\n",
       "      <td>773</td>\n",
       "      <td>145</td>\n",
       "    </tr>\n",
       "    <tr>\n",
       "      <th>2020-07-11 19:42:32</th>\n",
       "      <td>488</td>\n",
       "      <td>488</td>\n",
       "      <td>0</td>\n",
       "    </tr>\n",
       "    <tr>\n",
       "      <th>2020-07-12 19:59:59</th>\n",
       "      <td>1</td>\n",
       "      <td>1</td>\n",
       "      <td>0</td>\n",
       "    </tr>\n",
       "    <tr>\n",
       "      <th>2020-07-13 19:54:56</th>\n",
       "      <td>0</td>\n",
       "      <td>0</td>\n",
       "      <td>0</td>\n",
       "    </tr>\n",
       "    <tr>\n",
       "      <th>2020-07-14 19:54:27</th>\n",
       "      <td>0</td>\n",
       "      <td>0</td>\n",
       "      <td>0</td>\n",
       "    </tr>\n",
       "    <tr>\n",
       "      <th>2020-07-15 19:59:58</th>\n",
       "      <td>0</td>\n",
       "      <td>0</td>\n",
       "      <td>0</td>\n",
       "    </tr>\n",
       "    <tr>\n",
       "      <th>2020-07-16 19:59:59</th>\n",
       "      <td>5</td>\n",
       "      <td>5</td>\n",
       "      <td>0</td>\n",
       "    </tr>\n",
       "    <tr>\n",
       "      <th>2020-07-17 19:56:11</th>\n",
       "      <td>951</td>\n",
       "      <td>951</td>\n",
       "      <td>0</td>\n",
       "    </tr>\n",
       "    <tr>\n",
       "      <th>2020-07-18 19:57:21</th>\n",
       "      <td>855</td>\n",
       "      <td>855</td>\n",
       "      <td>0</td>\n",
       "    </tr>\n",
       "    <tr>\n",
       "      <th>2020-07-19 19:59:37</th>\n",
       "      <td>0</td>\n",
       "      <td>0</td>\n",
       "      <td>0</td>\n",
       "    </tr>\n",
       "    <tr>\n",
       "      <th>2020-07-20 19:59:59</th>\n",
       "      <td>0</td>\n",
       "      <td>0</td>\n",
       "      <td>0</td>\n",
       "    </tr>\n",
       "    <tr>\n",
       "      <th>2020-07-21 19:59:59</th>\n",
       "      <td>0</td>\n",
       "      <td>0</td>\n",
       "      <td>0</td>\n",
       "    </tr>\n",
       "    <tr>\n",
       "      <th>2020-07-22 19:55:15</th>\n",
       "      <td>0</td>\n",
       "      <td>0</td>\n",
       "      <td>0</td>\n",
       "    </tr>\n",
       "    <tr>\n",
       "      <th>2020-07-23 19:52:56</th>\n",
       "      <td>9</td>\n",
       "      <td>9</td>\n",
       "      <td>2</td>\n",
       "    </tr>\n",
       "    <tr>\n",
       "      <th>2020-07-24 19:59:26</th>\n",
       "      <td>179</td>\n",
       "      <td>179</td>\n",
       "      <td>0</td>\n",
       "    </tr>\n",
       "    <tr>\n",
       "      <th>2020-07-25 19:59:59</th>\n",
       "      <td>209</td>\n",
       "      <td>209</td>\n",
       "      <td>1</td>\n",
       "    </tr>\n",
       "    <tr>\n",
       "      <th>2020-07-26 19:59:52</th>\n",
       "      <td>0</td>\n",
       "      <td>0</td>\n",
       "      <td>0</td>\n",
       "    </tr>\n",
       "    <tr>\n",
       "      <th>2020-07-27 19:53:26</th>\n",
       "      <td>0</td>\n",
       "      <td>0</td>\n",
       "      <td>0</td>\n",
       "    </tr>\n",
       "    <tr>\n",
       "      <th>2020-07-28 19:45:45</th>\n",
       "      <td>53</td>\n",
       "      <td>53</td>\n",
       "      <td>0</td>\n",
       "    </tr>\n",
       "    <tr>\n",
       "      <th>2020-07-29 19:52:41</th>\n",
       "      <td>0</td>\n",
       "      <td>0</td>\n",
       "      <td>0</td>\n",
       "    </tr>\n",
       "    <tr>\n",
       "      <th>2020-07-30 19:59:58</th>\n",
       "      <td>0</td>\n",
       "      <td>0</td>\n",
       "      <td>0</td>\n",
       "    </tr>\n",
       "    <tr>\n",
       "      <th>2020-07-31 19:56:18</th>\n",
       "      <td>735</td>\n",
       "      <td>735</td>\n",
       "      <td>0</td>\n",
       "    </tr>\n",
       "    <tr>\n",
       "      <th>2020-08-01 19:59:59</th>\n",
       "      <td>588</td>\n",
       "      <td>588</td>\n",
       "      <td>0</td>\n",
       "    </tr>\n",
       "    <tr>\n",
       "      <th>2020-08-02 19:59:39</th>\n",
       "      <td>0</td>\n",
       "      <td>0</td>\n",
       "      <td>0</td>\n",
       "    </tr>\n",
       "    <tr>\n",
       "      <th>2020-08-03 19:45:04</th>\n",
       "      <td>0</td>\n",
       "      <td>0</td>\n",
       "      <td>0</td>\n",
       "    </tr>\n",
       "    <tr>\n",
       "      <th>2020-08-04 19:56:15</th>\n",
       "      <td>0</td>\n",
       "      <td>0</td>\n",
       "      <td>0</td>\n",
       "    </tr>\n",
       "    <tr>\n",
       "      <th>2020-08-05 19:59:42</th>\n",
       "      <td>0</td>\n",
       "      <td>0</td>\n",
       "      <td>0</td>\n",
       "    </tr>\n",
       "    <tr>\n",
       "      <th>2020-08-06 19:49:08</th>\n",
       "      <td>0</td>\n",
       "      <td>0</td>\n",
       "      <td>0</td>\n",
       "    </tr>\n",
       "    <tr>\n",
       "      <th>2020-08-07 19:57:47</th>\n",
       "      <td>434</td>\n",
       "      <td>434</td>\n",
       "      <td>0</td>\n",
       "    </tr>\n",
       "    <tr>\n",
       "      <th>2020-08-08 19:52:45</th>\n",
       "      <td>640</td>\n",
       "      <td>640</td>\n",
       "      <td>0</td>\n",
       "    </tr>\n",
       "  </tbody>\n",
       "</table>\n",
       "</div>"
      ],
      "text/plain": [
       "                     rb_vt  rb_at  rb_ev\n",
       "Date                                    \n",
       "2020-07-10 19:50:35    773    773    145\n",
       "2020-07-11 19:42:32    488    488      0\n",
       "2020-07-12 19:59:59      1      1      0\n",
       "2020-07-13 19:54:56      0      0      0\n",
       "2020-07-14 19:54:27      0      0      0\n",
       "2020-07-15 19:59:58      0      0      0\n",
       "2020-07-16 19:59:59      5      5      0\n",
       "2020-07-17 19:56:11    951    951      0\n",
       "2020-07-18 19:57:21    855    855      0\n",
       "2020-07-19 19:59:37      0      0      0\n",
       "2020-07-20 19:59:59      0      0      0\n",
       "2020-07-21 19:59:59      0      0      0\n",
       "2020-07-22 19:55:15      0      0      0\n",
       "2020-07-23 19:52:56      9      9      2\n",
       "2020-07-24 19:59:26    179    179      0\n",
       "2020-07-25 19:59:59    209    209      1\n",
       "2020-07-26 19:59:52      0      0      0\n",
       "2020-07-27 19:53:26      0      0      0\n",
       "2020-07-28 19:45:45     53     53      0\n",
       "2020-07-29 19:52:41      0      0      0\n",
       "2020-07-30 19:59:58      0      0      0\n",
       "2020-07-31 19:56:18    735    735      0\n",
       "2020-08-01 19:59:59    588    588      0\n",
       "2020-08-02 19:59:39      0      0      0\n",
       "2020-08-03 19:45:04      0      0      0\n",
       "2020-08-04 19:56:15      0      0      0\n",
       "2020-08-05 19:59:42      0      0      0\n",
       "2020-08-06 19:49:08      0      0      0\n",
       "2020-08-07 19:57:47    434    434      0\n",
       "2020-08-08 19:52:45    640    640      0"
      ]
     },
     "execution_count": 5,
     "metadata": {},
     "output_type": "execute_result"
    }
   ],
   "source": [
    "result"
   ]
  },
  {
   "cell_type": "code",
   "execution_count": 6,
   "metadata": {
    "scrolled": true
   },
   "outputs": [
    {
     "name": "stdout",
     "output_type": "stream",
     "text": [
      "Acceleration and speed have the same average remaining budget: \n",
      " \t 197.33 euros. \n",
      " Evolutive target has a much better efficiency in the remaining budget :\n",
      " \t 4.93 euros.\n"
     ]
    }
   ],
   "source": [
    "print(f\"Acceleration and speed have the same average remaining budget: \\n \\t {round(result.rb_vt.mean(),2)} euros. \\n Evolutive target has a much better efficiency in the remaining budget :\\n \\t {round(result.rb_ev.mean(),2)} euros.\")"
   ]
  },
  {
   "cell_type": "markdown",
   "metadata": {},
   "source": [
    "Firstly, acceleration and speed algorithms return both the same results.\n",
    "Evolutive target is far better but this is quite logical because this algorithm has learned the evolution of the times series. But this is at least an evidence that the fact to learn the distribution of the br in a given day gives far better results."
   ]
  },
  {
   "cell_type": "markdown",
   "metadata": {},
   "source": [
    "### Spending comparisons"
   ]
  },
  {
   "cell_type": "code",
   "execution_count": 7,
   "metadata": {},
   "outputs": [],
   "source": [
    "day_vt = df_vt['2020-07-11 06:00:00':'2020-07-11 20:00:00']\n",
    "day_at = df_at['2020-07-11 06:00:00':'2020-07-11 20:00:00']\n",
    "day_ev = df_ev['2020-07-11 06:00:00':'2020-07-11 20:00:00']"
   ]
  },
  {
   "cell_type": "code",
   "execution_count": 10,
   "metadata": {},
   "outputs": [
    {
     "data": {
      "image/png": "[encoded data removed]",
      "text/plain": [
       "<Figure size 576x396 with 1 Axes>"
      ]
     },
     "metadata": {},
     "output_type": "display_data"
    }
   ],
   "source": [
    "day_vt.spent_budget.plot(label = 'Pacing with speed')\n",
    "day_at.spent_budget.plot(label = 'Pacing with acceleration', ls='dotted', lw = 3)\n",
    "day_ev.spent_budget.plot(label = 'Pacing with evolutive target')\n",
    "plt.legend()\n",
    "plt.xlabel('Hour')\n",
    "plt.ylabel('Spent budget')\n",
    "plt.savefig(\"pacing_rb.pdf\")"
   ]
  },
  {
   "cell_type": "markdown",
   "metadata": {},
   "source": [
    "This particular day highlights the fact that the evolutive target has learned that there will be a high slowdown during the middle of the day and it has anticipate this by buying a much largen inventory before the slowdown"
   ]
  },
  {
   "cell_type": "code",
   "execution_count": null,
   "metadata": {},
   "outputs": [],
   "source": []
  }
 ],
 "metadata": {
  "kernelspec": {
   "display_name": "Python 3",
   "language": "python",
   "name": "python3"
  },
  "language_info": {
   "codemirror_mode": {
    "name": "ipython",
    "version": 3
   },
   "file_extension": ".py",
   "mimetype": "text/x-python",
   "name": "python",
   "nbconvert_exporter": "python",
   "pygments_lexer": "ipython3",
   "version": "3.7.6"
  }
 },
 "nbformat": 4,
 "nbformat_minor": 4
}
