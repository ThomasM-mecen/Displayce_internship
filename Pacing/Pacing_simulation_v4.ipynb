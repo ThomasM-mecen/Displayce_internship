{
 "cells": [
  {
   "cell_type": "markdown",
   "metadata": {},
   "source": [
    "# Version 4 "
   ]
  },
  {
   "cell_type": "markdown",
   "metadata": {},
   "source": [
    "L'objectif de cette version est d'utiliser les données historiques et le nouveau cadre de simulation fait en version 3 pour pouvoir implémenter :\n",
    "1. Un algo ultra basique comme fait en version 2\n",
    "2. Un algo un peu plus élaboré basé sur le principe du filtre de Kalman"
   ]
  },
  {
   "cell_type": "markdown",
   "metadata": {},
   "source": [
    "Questionnement :\n",
    "1. Pas d'interet de faire tourner l'ancien algo car il va forcément bien marcher même sur le nouveau cadre étant donnée que le nombre de seconde dans une journée est connue (horaires fixes d'ouverture des br).\n",
    "2. Si jamais je devais le faire tourner, ça serait sur les données historiques générées ou faire l'implémentation \"en temps réel\" en parallèle de la simulation ? "
   ]
  },
  {
   "cell_type": "markdown",
   "metadata": {},
   "source": [
    "### Etape 1 - Reprendre le code propre de simulation"
   ]
  },
  {
   "cell_type": "code",
   "execution_count": 1,
   "metadata": {},
   "outputs": [],
   "source": [
    "import numpy as np\n",
    "import random \n",
    "import simpy\n",
    "import time\n",
    "import csv\n",
    "from collections import namedtuple\n",
    "from datetime import datetime\n",
    "import pandas as pd"
   ]
  },
  {
   "cell_type": "code",
   "execution_count": 2,
   "metadata": {},
   "outputs": [],
   "source": [
    "def panneaux_dispo(nb_heures, total_panneaux):\n",
    "    prop = np.random.normal(loc=0.8, scale=0.2, size=nb_heures)\n",
    "    pann_dispo = list(map(lambda x: int(total_panneaux*x if x<=1 else total_panneaux), prop))\n",
    "    return pann_dispo"
   ]
  },
  {
   "cell_type": "code",
   "execution_count": 3,
   "metadata": {},
   "outputs": [],
   "source": [
    "def lambda_br(pann_dispo):\n",
    "    lam = list(map(lambda x: int((1000-x)/50) if x<950 else 1, pann_dispo))\n",
    "    return lam"
   ]
  },
  {
   "cell_type": "code",
   "execution_count": 4,
   "metadata": {},
   "outputs": [],
   "source": [
    "def imps():\n",
    "    lam = int(np.random.normal(loc=4, scale=2, size=1))\n",
    "    if lam < 1:\n",
    "        lam = 1\n",
    "    nb_imp = np.random.poisson(lam)\n",
    "    return nb_imp"
   ]
  },
  {
   "cell_type": "code",
   "execution_count": 5,
   "metadata": {},
   "outputs": [],
   "source": [
    "def delai(lam):\n",
    "    secondes = np.random.poisson(lam)\n",
    "    \n",
    "    #Simuler une proba de pb technique (1% de chance d'en avoir un)\n",
    "    if not random.random() < 0.99:\n",
    "        secondes = np.random.poisson(lam + 1000)\n",
    "    return secondes"
   ]
  },
  {
   "cell_type": "code",
   "execution_count": 7,
   "metadata": {},
   "outputs": [],
   "source": [
    "def total_sec(nb_jours):\n",
    "    tot = nb_jours * 86400\n",
    "    return tot"
   ]
  },
  {
   "cell_type": "code",
   "execution_count": 8,
   "metadata": {},
   "outputs": [],
   "source": [
    "def sauvegarde(liste, nom_de_fichier):\n",
    "    with open(nom_de_fichier, \"w\", encoding=\"utf8\") as fichier:\n",
    "        #Recuperer le nom des colonnes pour la première ligne\n",
    "        premier, *_ = liste\n",
    "        ecrivain = csv.DictWriter(fichier, premier._fields)\n",
    "        ecrivain.writeheader()\n",
    "        for br in liste:\n",
    "            # On ecrit chaque ligne comme un ordered dict\n",
    "            ecrivain.writerow(br._asdict())"
   ]
  },
  {
   "cell_type": "code",
   "execution_count": 9,
   "metadata": {},
   "outputs": [],
   "source": [
    "def open_rtb(env, P, timestampnow, nb_jours, bidrequests, data):\n",
    "    dispo = panneaux_dispo(14, 1000)\n",
    "    lam_secondes = lambda_br(dispo)\n",
    "    current_hour = datetime.strptime(datetime.fromtimestamp(env.now).strftime(\"%m-%d-%Y %H:%M:%S\"), '%m-%d-%Y %H:%M:%S').hour\n",
    "    i = 0\n",
    "    identifiant = 0\n",
    "    while True:\n",
    "        # Déterminer dans quel état on est actuellement\n",
    "        if current_hour >= 6 and current_hour < 20:\n",
    "            if setup:\n",
    "                setup = False\n",
    "                dispo = panneaux_dispo(14, 1000)\n",
    "                lam_secondes = lambda_br(dispo)\n",
    "                current_hour = datetime.strptime(datetime.fromtimestamp(env.now).strftime(\"%m-%d-%Y %H:%M:%S\"), '%m-%d-%Y %H:%M:%S').hour\n",
    "                i = 0\n",
    "            \n",
    "            # Génération d'une br\n",
    "            identifiant += 1\n",
    "            rt = (timestampnow+total_sec(nb_jours))-env.now\n",
    "\n",
    "            #Timestamp de la br\n",
    "            time = datetime.fromtimestamp(env.now).strftime(\"%m-%d-%Y %H:%M:%S\")\n",
    "\n",
    "            # Nombre d'impressions\n",
    "            nb_imp = imps()\n",
    "            Prix = P * nb_imp\n",
    "\n",
    "             # Stocker les résultats dans le namedtuple puis ajout à une liste\n",
    "            resultats = bidrequests(\n",
    "                identifiant = identifiant,\n",
    "                timestamp = env.now,\n",
    "                timestamp_string = time,\n",
    "                nombre_impressions = nb_imp,\n",
    "                prix_impression = P,\n",
    "                prix_total = Prix\n",
    "            )\n",
    "            data.append(resultats)\n",
    "\n",
    "            # Detecter quelle heure est-t-il\n",
    "            if datetime.strptime(datetime.fromtimestamp(env.now).strftime(\"%m-%d-%Y %H:%M:%S\"), '%m-%d-%Y %H:%M:%S').hour != current_hour:\n",
    "                i += 1 \n",
    "                current_hour = datetime.strptime(datetime.fromtimestamp(env.now).strftime(\"%m-%d-%Y %H:%M:%S\"), '%m-%d-%Y %H:%M:%S').hour\n",
    "\n",
    "            # Temps avant la prochaine BR\n",
    "            # On passe par un try except au cas ou il y a un changement d'heure inattendu sur la fin de période\n",
    "            try:\n",
    "                time_before_next = delai(lam_secondes[i])\n",
    "            except IndexError:\n",
    "                time_before_next = delai(lam_secondes[i-1])\n",
    "\n",
    "\n",
    "            # Fin de la simulation\n",
    "            if rt < time_before_next:\n",
    "                print(f\"Fin de la simulation à {time} !\")\n",
    "\n",
    "            yield env.timeout(time_before_next)\n",
    "            \n",
    "        else:\n",
    "            setup = True\n",
    "            current_hour = datetime.strptime(datetime.fromtimestamp(env.now).strftime(\"%m-%d-%Y %H:%M:%S\"), '%m-%d-%Y %H:%M:%S').hour\n",
    "            time = datetime.fromtimestamp(env.now).strftime(\"%m-%d-%Y %H:%M:%S\")\n",
    "            rt = (timestampnow+total_sec(nb_jours))-env.now\n",
    "            if rt <= 1:\n",
    "                print(f\"Fin de la simulation à {time} !\")\n",
    "            yield env.timeout(1)  "
   ]
  },
  {
   "cell_type": "code",
   "execution_count": 10,
   "metadata": {},
   "outputs": [],
   "source": [
    "# Constante \n",
    "nb_days = 30\n",
    "prix_per_imp = 1"
   ]
  },
  {
   "cell_type": "code",
   "execution_count": 11,
   "metadata": {},
   "outputs": [],
   "source": [
    "timestampnow = int(time.time()-3600*8)\n",
    "# Générer un named tuple pour stocker les résultats\n",
    "bidrequests =  namedtuple(\n",
    "    \"bidrequests\", \n",
    "    (\n",
    "        \"identifiant\", \n",
    "        \"timestamp\", \n",
    "        \"timestamp_string\",\n",
    "        \"nombre_impressions\",\n",
    "        \"prix_impression\",\n",
    "        \"prix_total\"\n",
    "    )\n",
    "                    )\n",
    "# Liste pour stocker les résultats du namedtuple\n",
    "data = list()\n",
    "env = simpy.Environment(initial_time=timestampnow)\n",
    "proc = env.process(open_rtb(env, prix_per_imp, timestampnow, nb_days, bidrequests, data))"
   ]
  },
  {
   "cell_type": "code",
   "execution_count": 12,
   "metadata": {},
   "outputs": [
    {
     "name": "stdout",
     "output_type": "stream",
     "text": [
      "Fin de la simulation à 07-03-2020 04:17:42 !\n"
     ]
    }
   ],
   "source": [
    "env.run(until=timestampnow + total_sec(nb_days))"
   ]
  },
  {
   "cell_type": "code",
   "execution_count": 13,
   "metadata": {},
   "outputs": [
    {
     "data": {
      "text/plain": [
       "115066"
      ]
     },
     "execution_count": 13,
     "metadata": {},
     "output_type": "execute_result"
    }
   ],
   "source": [
    "len(data)"
   ]
  }
 ],
 "metadata": {
  "kernelspec": {
   "display_name": "Python 3",
   "language": "python",
   "name": "python3"
  },
  "language_info": {
   "codemirror_mode": {
    "name": "ipython",
    "version": 3
   },
   "file_extension": ".py",
   "mimetype": "text/x-python",
   "name": "python",
   "nbconvert_exporter": "python",
   "pygments_lexer": "ipython3",
   "version": "3.7.6"
  }
 },
 "nbformat": 4,
 "nbformat_minor": 4
}
