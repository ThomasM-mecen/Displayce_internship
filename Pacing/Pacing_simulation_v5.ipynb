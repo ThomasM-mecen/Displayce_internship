{
 "cells": [
  {
   "cell_type": "markdown",
   "metadata": {},
   "source": [
    "# Version 5"
   ]
  },
  {
   "cell_type": "markdown",
   "metadata": {},
   "source": [
    "Pour réponse à la problématique d'épuiser tout le budget avant la fin de la journée, il faut pouvoir garantir un achat massif des br si jamais celles-ci venaient à se ralentir (pour être sur d'en avoir assez avant la fin de la journée pour épuiser tout el budget)."
   ]
  },
  {
   "cell_type": "markdown",
   "metadata": {},
   "source": [
    "La première étape consiste donc à remodifier légèrement le cadre de la simulation en prenant en compte des effets d'affluence qui permettraient de faire varier la fréquence des br en plus du nb de panneaux dispo. Par exemple on pourrait imaginer avoir des creux de 3h en début, milieu ou fin de journée et ainsi simuler le ralentissement dans l'arrivée des bid requests. "
   ]
  },
  {
   "cell_type": "markdown",
   "metadata": {},
   "source": [
    "Une fois cela réalisé, on pourrait modifier le calcul de $b_t$ en prenant en compte justement les effets de vitesse et d'accélération. On pourrait à juste titre prendre en compte la vitesse de $b_t$ dans son calcul puisque ce dernier est directement lié à la vitesse d'arrivée des br (plus la vitesse d'arrivée des br est faible, plus la différence $b_{t+1} - b_t$ est grande."
   ]
  },
  {
   "cell_type": "markdown",
   "metadata": {},
   "source": [
    "Rappelons qu'on à la formule suivante : \n",
    "$$b_{t+1} = \\Bigr(B - \\sum_{s=1}^{t} S(s)\\Bigl) \\dfrac{1}{T-t}$$\n",
    "\n",
    "Si nous prenons un temps continu, la vitesse de $b_t$ est mesuré par $v_t = \\dfrac{b_{t+1} - b_t}{\\partial b_t}$. Or étant en temps discret, au niveau d'une seconde le calcul est simplement le suivant : $v_t = b_{t+1} - b_t$.\n",
    "\n",
    "De la même manière, l'accélération étant la dérivée seconde, on peut ici déterminer : $a_t = v_{t+1}-v_t$"
   ]
  },
  {
   "cell_type": "markdown",
   "metadata": {},
   "source": [
    "L'idée est ensuite la suivante : on pourrait imaginer regarder une moyenne mobile de la vitesse sur un certain laps de temps (10min, 30min, 1h?) et utiliser cette moyenne pour la faire intervenir dans le calcul de $b_t$ directement. On aurait donc une nouvelle formule du type : \n",
    "$$b_{t+1} = \\Bigr(B - \\sum_{s=1}^{t} S(s)\\Bigl) \\dfrac{1+\\alpha \\overline{v_t}}{T-t}$$\n",
    "où finalement $\\overline{v_t}$ serait une moyenne mobile de $v_t$ et $\\alpha$ un paramètre que l'on pourrait fixer en fonction des simulations. A termes, on pourrait même imaginer avoir quelque chose de la même forme mais où le $\\alpha$ dépendrait de l'accélération tel que : $\\alpha = \\beta \\times \\overline{a_t}$ où là encore on pourrait fixer $\\beta$."
   ]
  },
  {
   "cell_type": "markdown",
   "metadata": {},
   "source": [
    "### Reprenons le cadre de simulation pour implémenter des éventuels ralentissements"
   ]
  },
  {
   "cell_type": "code",
   "execution_count": 1,
   "metadata": {},
   "outputs": [],
   "source": [
    "import numpy as np\n",
    "import random \n",
    "import simpy\n",
    "import time\n",
    "import csv\n",
    "from collections import namedtuple\n",
    "from datetime import datetime\n",
    "import pandas as pd"
   ]
  },
  {
   "cell_type": "code",
   "execution_count": 2,
   "metadata": {},
   "outputs": [],
   "source": [
    "def panneaux_dispo(nb_heures, total_panneaux):\n",
    "    \"\"\"Fonction qui génère un nombre de panneaux dispo parmi 1000 panneaux pour chaque heure de la journée\"\"\"\n",
    "    prop = np.random.normal(loc=0.8, scale=0.2, size=nb_heures)\n",
    "    pann_dispo = list(map(lambda x: int(total_panneaux*x if x<=1 else total_panneaux), prop))\n",
    "    return pann_dispo"
   ]
  },
  {
   "cell_type": "code",
   "execution_count": 3,
   "metadata": {},
   "outputs": [],
   "source": [
    "def lambda_br(pann_dispo):\n",
    "    \"\"\"Fonction qui génère un lambda de la loi de poisson. Plus le nombre de panneaux est grand, plus lambda est faible\"\"\"\n",
    "    lam = list(map(lambda x: (1000-x)/50 if x<950 else 1, pann_dispo))\n",
    "    return lam"
   ]
  },
  {
   "cell_type": "code",
   "execution_count": 4,
   "metadata": {},
   "outputs": [],
   "source": [
    "def imps():\n",
    "    \"\"\"Fonction qui génère un nombre d'impressions devant un panneau\"\"\"\n",
    "    lam = int(np.random.normal(loc=4, scale=2, size=1))\n",
    "    if lam < 1:\n",
    "        lam = 1\n",
    "    nb_imp = np.random.poisson(lam)\n",
    "    return nb_imp"
   ]
  },
  {
   "cell_type": "code",
   "execution_count": 5,
   "metadata": {},
   "outputs": [],
   "source": [
    "def delai(lam):\n",
    "    \"\"\"Fonction qui génère un nombre de secondes avant la prochaine br grâce à une loi de poisson de paramètre lambda\"\"\"\n",
    "    secondes = np.random.poisson(lam)\n",
    "    \n",
    "    #Simuler une proba de pb technique (1% de chance d'en avoir un)\n",
    "    if not random.random() < 0.99:\n",
    "        secondes = np.random.poisson(lam + 1000)\n",
    "    return secondes"
   ]
  },
  {
   "cell_type": "code",
   "execution_count": 6,
   "metadata": {},
   "outputs": [],
   "source": [
    "def total_sec(nb_jours):\n",
    "    \"\"\"Fonction pour générer le nombre de secondes contenu dans X jours\"\"\"\n",
    "    tot = nb_jours * 86400\n",
    "    return tot"
   ]
  },
  {
   "cell_type": "code",
   "execution_count": 7,
   "metadata": {},
   "outputs": [],
   "source": [
    "def sauvegarde(liste, nom_de_fichier):\n",
    "    \"\"\"Fonction pour sauvegarder un named tuple dans un format CSV\"\"\"\n",
    "    with open(nom_de_fichier, \"w\", encoding=\"utf8\") as fichier:\n",
    "        #Recuperer le nom des colonnes pour la première ligne\n",
    "        premier, *_ = liste\n",
    "        ecrivain = csv.DictWriter(fichier, premier._fields)\n",
    "        ecrivain.writeheader()\n",
    "        for br in liste:\n",
    "            # On ecrit chaque ligne comme un ordered dict\n",
    "            ecrivain.writerow(br._asdict())"
   ]
  },
  {
   "cell_type": "code",
   "execution_count": 8,
   "metadata": {},
   "outputs": [],
   "source": [
    "def open_rtb_pacing(env, P, B, timestampnow, nb_jours, nb_hours_per_day, bidrequests, data):\n",
    "    \"\"\"Fonction pour générer la simulation\"\"\"\n",
    "    setup = True\n",
    "    identifiant = 0\n",
    "    cible = B/(nb_hours_per_day*3600)\n",
    "    current_hour = datetime.strptime(datetime.fromtimestamp(env.now).strftime(\"%m-%d-%Y %H:%M:%S\"), '%m-%d-%Y %H:%M:%S').hour\n",
    "    while True:\n",
    "        # Déterminer dans quel état on est actuellement\n",
    "        if current_hour >= 6 and current_hour < 20:\n",
    "            if setup:\n",
    "                setup = False\n",
    "                dispo = panneaux_dispo(nb_hours_per_day, 1000)\n",
    "                lam_secondes = lambda_br(dispo)\n",
    "                current_hour = datetime.strptime(datetime.fromtimestamp(env.now).strftime(\"%m-%d-%Y %H:%M:%S\"), '%m-%d-%Y %H:%M:%S').hour\n",
    "                i = 0\n",
    "                S = list()\n",
    "                end_day = env.now + (nb_hours_per_day*3600) - 1200 #On fixe la fin de la journée à 19h40h pour être plus restrictif\n",
    "            \n",
    "            # Génération d'une br\n",
    "            identifiant += 1\n",
    "            rt = (timestampnow+total_sec(nb_jours))-env.now\n",
    "            \n",
    "            # Déterminer b_t\n",
    "            try:\n",
    "                bt = (B - sum(S))/(end_day - env.now)\n",
    "                \n",
    "            except ZeroDivisionError:\n",
    "                bt = 1\n",
    "            #on force l'achat\n",
    "            if bt < 0:\n",
    "                bt=1\n",
    "            \n",
    "            #Timestamp de la br\n",
    "            time = datetime.fromtimestamp(env.now).strftime(\"%m-%d-%Y %H:%M:%S\")\n",
    "\n",
    "            # Nombre d'impressions\n",
    "            nb_imp = imps()\n",
    "            Prix = P * nb_imp\n",
    "            \n",
    "            #Achat ou non \n",
    "            if bt >= cible and (sum(S)+Prix) <= B:\n",
    "                S.append(Prix)\n",
    "                achat = 1\n",
    "            else:\n",
    "                achat = 0\n",
    "\n",
    "            # Stocker les résultats dans le namedtuple puis ajout à une liste\n",
    "            resultats = bidrequests(\n",
    "                identifiant = identifiant,\n",
    "                timestamp = env.now,\n",
    "                timestamp_string = time,\n",
    "                nombre_impressions = nb_imp,\n",
    "                prix_impression = P,\n",
    "                prix_total = Prix,\n",
    "                achat = achat,\n",
    "                budget_depense = sum(S),\n",
    "                bt = bt,\n",
    "                cible = cible\n",
    "            )\n",
    "            data.append(resultats)\n",
    "\n",
    "            # Temps avant la prochaine BR\n",
    "            # On passe par un try except au cas ou il y a un changement d'heure inattendu sur la fin de période\n",
    "            try:\n",
    "                time_before_next = delai(lam_secondes[i])\n",
    "            except IndexError:\n",
    "                time_before_next = delai(lam_secondes[i-1])\n",
    "\n",
    "\n",
    "            # Fin de la simulation\n",
    "            if rt < time_before_next:\n",
    "                print(f\"Fin de la simulation à {time} !\")\n",
    "\n",
    "            yield env.timeout(time_before_next)\n",
    "            \n",
    "            # Detecter quelle heure est-t-il\n",
    "            if datetime.strptime(datetime.fromtimestamp(env.now).strftime(\"%m-%d-%Y %H:%M:%S\"), '%m-%d-%Y %H:%M:%S').hour != current_hour:\n",
    "                i += 1 \n",
    "                current_hour = datetime.strptime(datetime.fromtimestamp(env.now).strftime(\"%m-%d-%Y %H:%M:%S\"), '%m-%d-%Y %H:%M:%S').hour\n",
    "\n",
    "        else:\n",
    "            setup = True\n",
    "            current_hour = datetime.strptime(datetime.fromtimestamp(env.now).strftime(\"%m-%d-%Y %H:%M:%S\"), '%m-%d-%Y %H:%M:%S').hour\n",
    "            time = datetime.fromtimestamp(env.now).strftime(\"%m-%d-%Y %H:%M:%S\")\n",
    "            rt = (timestampnow+total_sec(nb_jours))-env.now\n",
    "            if rt <= 1:\n",
    "                print(f\"Fin de la simulation à {time} !\")\n",
    "            yield env.timeout(1) "
   ]
  },
  {
   "cell_type": "code",
   "execution_count": null,
   "metadata": {},
   "outputs": [],
   "source": []
  }
 ],
 "metadata": {
  "kernelspec": {
   "display_name": "Python 3",
   "language": "python",
   "name": "python3"
  },
  "language_info": {
   "codemirror_mode": {
    "name": "ipython",
    "version": 3
   },
   "file_extension": ".py",
   "mimetype": "text/x-python",
   "name": "python",
   "nbconvert_exporter": "python",
   "pygments_lexer": "ipython3",
   "version": "3.7.6"
  }
 },
 "nbformat": 4,
 "nbformat_minor": 4
}
