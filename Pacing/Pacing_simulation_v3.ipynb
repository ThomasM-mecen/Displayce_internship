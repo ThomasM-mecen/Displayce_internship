{
 "cells": [
  {
   "cell_type": "markdown",
   "metadata": {},
   "source": [
    "# 3 eme Version - Amélioration du cadre d'analyse"
   ]
  },
  {
   "cell_type": "code",
   "execution_count": 1,
   "metadata": {},
   "outputs": [],
   "source": [
    "import numpy as np\n",
    "import random \n",
    "import simpy\n",
    "import time\n",
    "import csv\n",
    "from collections import namedtuple\n",
    "from datetime import datetime\n",
    "import pandas as pd"
   ]
  },
  {
   "cell_type": "markdown",
   "metadata": {},
   "source": [
    "L'objectif est d'améliorer le cadre de simulation de la version précédente en y implémentant un niveau d'aléatoiriété supplémentaire. En effet il faut implémenter le fait que le nombre de panneaux pouvant proposer des bid requests est variable et évolue dynamiquement. Ainsi, le délai entre chaque bid request ne suit plus seulement une loi à paramètre constant mais à paramètre variable. L'intérêt est ainsi de simuler le fait qu'à certaines heures de la journée le délai entre deux br est beaucoup plus court que d'autres heures.\n",
    "    \n",
    "Le second objectif est de pouvoir simuler ce qu'il s'est passé sur un jour, puis une semaine puis un mois par exemple et stocker les résultats dans un fichier (csv ou json par exemple) afin de réutiliser ces résultats dans la mise en place d'un algorithme de pacing plus élaboré que précédemment."
   ]
  },
  {
   "cell_type": "markdown",
   "metadata": {},
   "source": [
    "### Etape 1 - Générer les fonctions des variables aléatoires ainsi que les constantes"
   ]
  },
  {
   "cell_type": "code",
   "execution_count": 2,
   "metadata": {},
   "outputs": [],
   "source": [
    "# Constantes globales\n",
    "nombre_jours = 1 \n",
    "nombre_panneaux = 10000"
   ]
  },
  {
   "cell_type": "code",
   "execution_count": 3,
   "metadata": {},
   "outputs": [],
   "source": [
    "def panneaux_dispo(nb_heures, total_panneaux):\n",
    "    prop = np.random.normal(loc=0.8, scale=0.2, size=nb_heures)\n",
    "    pann_dispo = list(map(lambda x: int(total_panneaux*x if x<=1 else total_panneaux), prop))\n",
    "    return pann_dispo"
   ]
  },
  {
   "cell_type": "markdown",
   "metadata": {},
   "source": [
    "La difficulté majeure pour cette simulation est de trouver une bonne approche afin de simuler le fait que le $\\lambda$  de la loi de Poisson soit lui même une variable aléatoire (qui pourrait varier chaque heure par exemple) et donc de faire le lien entre cette variable aléatoire et le temps entre chaque bid request (plus il y a de panneaux dispo sur une heure donnée et plus le délai entre deux br est court)"
   ]
  },
  {
   "cell_type": "code",
   "execution_count": 4,
   "metadata": {},
   "outputs": [],
   "source": [
    "def lambda_br(pann_dispo):\n",
    "    lam = list(map(lambda x: int((1000-x)/50) if x<950 else 1, pann_dispo))\n",
    "    return lam"
   ]
  },
  {
   "cell_type": "code",
   "execution_count": 5,
   "metadata": {},
   "outputs": [],
   "source": [
    "def delai(lam):\n",
    "    secondes = np.random.poisson(lam)\n",
    "    \n",
    "    #Simuler une proba de pb technique (2% de chance d'en avoir un)\n",
    "    #if not random.random() < 0.98:\n",
    "     #   secondes = np.random.poisson(lam + 1000)\n",
    "    return secondes"
   ]
  },
  {
   "cell_type": "code",
   "execution_count": 6,
   "metadata": {},
   "outputs": [],
   "source": [
    "def imps():\n",
    "    lam = int(np.random.normal(loc=4, scale=2, size=1))\n",
    "    if lam < 1:\n",
    "        lam = 1\n",
    "    nb_imp = np.random.poisson(lam)\n",
    "    return nb_imp"
   ]
  },
  {
   "cell_type": "markdown",
   "metadata": {},
   "source": [
    "### Etape 2 - Générer la nouvelle simulation"
   ]
  },
  {
   "cell_type": "code",
   "execution_count": 7,
   "metadata": {},
   "outputs": [],
   "source": [
    "def open_rtb(env, P, timestampnow):\n",
    "    dispo = panneaux_dispo(10, 1000)\n",
    "    lam_secondes = lambda_br(dispo)\n",
    "    current_hour = datetime.strptime(datetime.fromtimestamp(env.now).strftime(\"%m-%d-%Y %H:%M:%S\"), '%m-%d-%Y %H:%M:%S').minute\n",
    "    i = 0\n",
    "    while True:\n",
    "        rt = (timestampnow+600)-env.now\n",
    "        print(f\"Remaining {rt} seconds\")\n",
    "        #Timestamp de la br\n",
    "        time = datetime.fromtimestamp(env.now).strftime(\"%m-%d-%Y %H:%M:%S\")\n",
    "        print(f\"Bid request at {time}\")\n",
    "        \n",
    "        # Nombre d'impressions\n",
    "        nb_imp = imps()\n",
    "        print(f\"{nb_imp} impressions\")\n",
    "        Prix = P * nb_imp\n",
    "        print(f\"Price of {Prix}€\")\n",
    "        \n",
    "        # Detecter quelle heure est-t-il\n",
    "        if datetime.strptime(datetime.fromtimestamp(env.now).strftime(\"%m-%d-%Y %H:%M:%S\"), '%m-%d-%Y %H:%M:%S').minute != current_hour:\n",
    "            i += 1 \n",
    "            current_hour = datetime.strptime(datetime.fromtimestamp(env.now).strftime(\"%m-%d-%Y %H:%M:%S\"), '%m-%d-%Y %H:%M:%S').minute\n",
    "        \n",
    "        # Temps avant la prochaine BR\n",
    "        # On passe par un try except au cas ou il y a un changement d'heure inattendu sur la fin de période\n",
    "        try:\n",
    "            print(f\"Lambda égal a {lam_secondes[i]}\\n\")\n",
    "            time_before_next = delai(lam_secondes[i])\n",
    "        except IndexError:\n",
    "            print(f\"Lambda égal a {lam_secondes[i-1]}\\n\")\n",
    "            time_before_next = delai(lam_secondes[i-1])\n",
    "            \n",
    "        # Fin de la simulation\n",
    "        if rt < time_before_next:\n",
    "            print(\"\\n Fin de la simulation !\")\n",
    "            \n",
    "        \n",
    "        yield env.timeout(time_before_next)"
   ]
  },
  {
   "cell_type": "code",
   "execution_count": 60,
   "metadata": {},
   "outputs": [],
   "source": [
    "timestampnow = int(time.time())\n",
    "env = simpy.Environment(initial_time=timestampnow)\n",
    "proc = env.process(open_rtb(env, 1, timestampnow))"
   ]
  },
  {
   "cell_type": "code",
   "execution_count": 62,
   "metadata": {
    "scrolled": true
   },
   "outputs": [
    {
     "ename": "ValueError",
     "evalue": "until(=1590505977) must be > the current simulation time.",
     "output_type": "error",
     "traceback": [
      "\u001b[0;31m---------------------------------------------------------------------------\u001b[0m",
      "\u001b[0;31mValueError\u001b[0m                                Traceback (most recent call last)",
      "\u001b[0;32m<ipython-input-62-3db34cb565da>\u001b[0m in \u001b[0;36m<module>\u001b[0;34m\u001b[0m\n\u001b[0;32m----> 1\u001b[0;31m \u001b[0menv\u001b[0m\u001b[0;34m.\u001b[0m\u001b[0mrun\u001b[0m\u001b[0;34m(\u001b[0m\u001b[0muntil\u001b[0m\u001b[0;34m=\u001b[0m\u001b[0mtimestampnow\u001b[0m \u001b[0;34m+\u001b[0m \u001b[0;36m600\u001b[0m\u001b[0;34m)\u001b[0m\u001b[0;34m\u001b[0m\u001b[0;34m\u001b[0m\u001b[0m\n\u001b[0m",
      "\u001b[0;32m~/anaconda3/lib/python3.7/site-packages/simpy/core.py\u001b[0m in \u001b[0;36mrun\u001b[0;34m(self, until)\u001b[0m\n\u001b[1;32m    235\u001b[0m                 \u001b[0;32mif\u001b[0m \u001b[0mat\u001b[0m \u001b[0;34m<=\u001b[0m \u001b[0mself\u001b[0m\u001b[0;34m.\u001b[0m\u001b[0mnow\u001b[0m\u001b[0;34m:\u001b[0m\u001b[0;34m\u001b[0m\u001b[0;34m\u001b[0m\u001b[0m\n\u001b[1;32m    236\u001b[0m                     raise ValueError(\n\u001b[0;32m--> 237\u001b[0;31m                         \u001b[0;34mf'until(={at}) must be > the current simulation time.'\u001b[0m\u001b[0;34m\u001b[0m\u001b[0;34m\u001b[0m\u001b[0m\n\u001b[0m\u001b[1;32m    238\u001b[0m                     )\n\u001b[1;32m    239\u001b[0m \u001b[0;34m\u001b[0m\u001b[0m\n",
      "\u001b[0;31mValueError\u001b[0m: until(=1590505977) must be > the current simulation time."
     ]
    }
   ],
   "source": [
    "env.run(until=timestampnow + 600)"
   ]
  },
  {
   "cell_type": "code",
   "execution_count": 8,
   "metadata": {},
   "outputs": [],
   "source": [
    "def delai(lam):\n",
    "    secondes = np.random.poisson(lam)\n",
    "    \n",
    "    #Simuler une proba de pb technique (1% de chance d'en avoir un)\n",
    "    if not random.random() < 0.99:\n",
    "        secondes = np.random.poisson(lam + 1000)\n",
    "    return secondes"
   ]
  },
  {
   "cell_type": "code",
   "execution_count": 9,
   "metadata": {},
   "outputs": [],
   "source": [
    "def open_rtb(env, P, timestampnow, nb_heures):\n",
    "    dispo = panneaux_dispo(nb_heures, 1000)\n",
    "    lam_secondes = lambda_br(dispo)\n",
    "    current_hour = datetime.strptime(datetime.fromtimestamp(env.now).strftime(\"%m-%d-%Y %H:%M:%S\"), '%m-%d-%Y %H:%M:%S').hour\n",
    "    i = 0\n",
    "    identifiant = 0\n",
    "    while True:\n",
    "        identifiant += 1\n",
    "        Identifiants.append(identifiant)\n",
    "        rt = (timestampnow+nb_heures*3600)-env.now\n",
    "        \n",
    "        #Timestamp de la br\n",
    "        time = datetime.fromtimestamp(env.now).strftime(\"%m-%d-%Y %H:%M:%S\")\n",
    "        Timestampstring.append(time)\n",
    "        Timestamps.append(env.now)\n",
    "        \n",
    "        # Nombre d'impressions\n",
    "        nb_imp = imps()\n",
    "        Impressions.append(nb_imp)\n",
    "        Prix = P * nb_imp\n",
    "        Prices.append(Prix)\n",
    "        \n",
    "        # Detecter quelle heure est-t-il\n",
    "        if datetime.strptime(datetime.fromtimestamp(env.now).strftime(\"%m-%d-%Y %H:%M:%S\"), '%m-%d-%Y %H:%M:%S').hour != current_hour:\n",
    "            i += 1 \n",
    "            current_hour = datetime.strptime(datetime.fromtimestamp(env.now).strftime(\"%m-%d-%Y %H:%M:%S\"), '%m-%d-%Y %H:%M:%S').hour\n",
    "        \n",
    "        # Temps avant la prochaine BR\n",
    "        # On passe par un try except au cas ou il y a un changement d'heure inattendu sur la fin de période\n",
    "        try:\n",
    "            time_before_next = delai(lam_secondes[i])\n",
    "        except IndexError:\n",
    "            time_before_next = delai(lam_secondes[i-1])\n",
    "            \n",
    "        # Fin de la simulation\n",
    "        if rt < time_before_next:\n",
    "            print(f\"Fin de la simulation à {time} !\")\n",
    "        \n",
    "        yield env.timeout(time_before_next)"
   ]
  },
  {
   "cell_type": "code",
   "execution_count": 10,
   "metadata": {},
   "outputs": [],
   "source": [
    "timestampnow = int(time.time())\n",
    "env = simpy.Environment(initial_time=timestampnow)\n",
    "proc = env.process(open_rtb(env, 1, timestampnow, 5))"
   ]
  },
  {
   "cell_type": "code",
   "execution_count": 11,
   "metadata": {},
   "outputs": [
    {
     "name": "stdout",
     "output_type": "stream",
     "text": [
      "Fin de la simulation à 05-28-2020 15:39:48 !\n"
     ]
    }
   ],
   "source": [
    "Identifiants = []\n",
    "Timestampstring = []\n",
    "Timestamps = []\n",
    "Impressions = []\n",
    "Prices = []\n",
    "env.run(until=timestampnow + 5*3600)"
   ]
  },
  {
   "cell_type": "code",
   "execution_count": 12,
   "metadata": {},
   "outputs": [
    {
     "data": {
      "text/plain": [
       "1806"
      ]
     },
     "execution_count": 12,
     "metadata": {},
     "output_type": "execute_result"
    }
   ],
   "source": [
    "len(Identifiants)"
   ]
  },
  {
   "cell_type": "markdown",
   "metadata": {},
   "source": [
    "### Etape 3 - Stocker les résultats "
   ]
  },
  {
   "cell_type": "markdown",
   "metadata": {},
   "source": [
    "On va tenter premièrement de stocker les résultats au format csv (format qui pourrait être suffisant étant donné le grand nombre de lignes mais le très faible nombre de colonnes)"
   ]
  },
  {
   "cell_type": "code",
   "execution_count": 13,
   "metadata": {},
   "outputs": [],
   "source": [
    "def open_rtb(env, P, timestampnow, nb_heures, bidrequests, data):\n",
    "    dispo = panneaux_dispo(nb_heures, 1000)\n",
    "    lam_secondes = lambda_br(dispo)\n",
    "    current_hour = datetime.strptime(datetime.fromtimestamp(env.now).strftime(\"%m-%d-%Y %H:%M:%S\"), '%m-%d-%Y %H:%M:%S').hour\n",
    "    i = 0\n",
    "    identifiant = 0\n",
    "    while True:\n",
    "        identifiant += 1\n",
    "        rt = (timestampnow+nb_heures*3600)-env.now\n",
    "        \n",
    "        #Timestamp de la br\n",
    "        time = datetime.fromtimestamp(env.now).strftime(\"%m-%d-%Y %H:%M:%S\")\n",
    "        \n",
    "        # Nombre d'impressions\n",
    "        nb_imp = imps()\n",
    "        Prix = P * nb_imp\n",
    "        \n",
    "         # Stocker les résultats dans le namedtuple puis ajout à une liste\n",
    "        resultats = bidrequests(\n",
    "            identifiant = identifiant,\n",
    "            timestamp = env.now,\n",
    "            timestamp_string = time,\n",
    "            nombre_impressions = nb_imp,\n",
    "            prix_impression = P,\n",
    "            prix_total = Prix\n",
    "        )\n",
    "        data.append(resultats)\n",
    "        \n",
    "        # Detecter quelle heure est-t-il\n",
    "        if datetime.strptime(datetime.fromtimestamp(env.now).strftime(\"%m-%d-%Y %H:%M:%S\"), '%m-%d-%Y %H:%M:%S').hour != current_hour:\n",
    "            i += 1 \n",
    "            current_hour = datetime.strptime(datetime.fromtimestamp(env.now).strftime(\"%m-%d-%Y %H:%M:%S\"), '%m-%d-%Y %H:%M:%S').hour\n",
    "        \n",
    "        # Temps avant la prochaine BR\n",
    "        # On passe par un try except au cas ou il y a un changement d'heure inattendu sur la fin de période\n",
    "        try:\n",
    "            time_before_next = delai(lam_secondes[i])\n",
    "        except IndexError:\n",
    "            time_before_next = delai(lam_secondes[i-1])\n",
    "       \n",
    "        \n",
    "        # Fin de la simulation\n",
    "        if rt < time_before_next:\n",
    "            print(f\"Fin de la simulation à {time} !\")\n",
    "        \n",
    "        yield env.timeout(time_before_next)"
   ]
  },
  {
   "cell_type": "code",
   "execution_count": 14,
   "metadata": {},
   "outputs": [],
   "source": [
    "def sauvegarde(liste, nom_de_fichier):\n",
    "    with open(nom_de_fichier, \"w\", encoding=\"utf8\") as fichier:\n",
    "        #Recuperer le nom des colonnes pour la première ligne\n",
    "        premier, *_ = liste\n",
    "        ecrivain = csv.DictWriter(fichier, premier._fields)\n",
    "        ecrivain.writeheader()\n",
    "        for br in liste:\n",
    "            # On ecrit chaque ligne comme un ordered dict\n",
    "            ecrivain.writerow(br._asdict())"
   ]
  },
  {
   "cell_type": "code",
   "execution_count": 15,
   "metadata": {},
   "outputs": [],
   "source": [
    "timestampnow = int(time.time())\n",
    "# Générer un named tuple pour stocker les résultats\n",
    "bidrequests =  namedtuple(\n",
    "    \"bidrequests\", \n",
    "    (\n",
    "        \"identifiant\", \n",
    "        \"timestamp\", \n",
    "        \"timestamp_string\",\n",
    "        \"nombre_impressions\",\n",
    "        \"prix_impression\",\n",
    "        \"prix_total\"\n",
    "    )\n",
    "                    )\n",
    "# Liste pour stocker les résultats du namedtuple\n",
    "data = list()\n",
    "env = simpy.Environment(initial_time=timestampnow)\n",
    "proc = env.process(open_rtb(env, 1, timestampnow, 5, bidrequests, data))"
   ]
  },
  {
   "cell_type": "code",
   "execution_count": 16,
   "metadata": {
    "scrolled": true
   },
   "outputs": [
    {
     "name": "stdout",
     "output_type": "stream",
     "text": [
      "Fin de la simulation à 05-28-2020 15:40:25 !\n"
     ]
    }
   ],
   "source": [
    "env.run(until=timestampnow + 5*3600)"
   ]
  },
  {
   "cell_type": "code",
   "execution_count": 17,
   "metadata": {},
   "outputs": [],
   "source": [
    "sauvegarde(data, 'test.csv')"
   ]
  },
  {
   "cell_type": "code",
   "execution_count": 18,
   "metadata": {},
   "outputs": [],
   "source": [
    "df = pd.read_csv('test.csv', index_col = 0)"
   ]
  },
  {
   "cell_type": "code",
   "execution_count": 19,
   "metadata": {},
   "outputs": [
    {
     "data": {
      "text/html": [
       "<div>\n",
       "<style scoped>\n",
       "    .dataframe tbody tr th:only-of-type {\n",
       "        vertical-align: middle;\n",
       "    }\n",
       "\n",
       "    .dataframe tbody tr th {\n",
       "        vertical-align: top;\n",
       "    }\n",
       "\n",
       "    .dataframe thead th {\n",
       "        text-align: right;\n",
       "    }\n",
       "</style>\n",
       "<table border=\"1\" class=\"dataframe\">\n",
       "  <thead>\n",
       "    <tr style=\"text-align: right;\">\n",
       "      <th></th>\n",
       "      <th>timestamp</th>\n",
       "      <th>timestamp_string</th>\n",
       "      <th>nombre_impressions</th>\n",
       "      <th>prix_impression</th>\n",
       "      <th>prix_total</th>\n",
       "    </tr>\n",
       "    <tr>\n",
       "      <th>identifiant</th>\n",
       "      <th></th>\n",
       "      <th></th>\n",
       "      <th></th>\n",
       "      <th></th>\n",
       "      <th></th>\n",
       "    </tr>\n",
       "  </thead>\n",
       "  <tbody>\n",
       "    <tr>\n",
       "      <th>1</th>\n",
       "      <td>1590655231</td>\n",
       "      <td>05-28-2020 10:40:31</td>\n",
       "      <td>2</td>\n",
       "      <td>1</td>\n",
       "      <td>2</td>\n",
       "    </tr>\n",
       "    <tr>\n",
       "      <th>2</th>\n",
       "      <td>1590655231</td>\n",
       "      <td>05-28-2020 10:40:31</td>\n",
       "      <td>4</td>\n",
       "      <td>1</td>\n",
       "      <td>4</td>\n",
       "    </tr>\n",
       "    <tr>\n",
       "      <th>3</th>\n",
       "      <td>1590655232</td>\n",
       "      <td>05-28-2020 10:40:32</td>\n",
       "      <td>3</td>\n",
       "      <td>1</td>\n",
       "      <td>3</td>\n",
       "    </tr>\n",
       "    <tr>\n",
       "      <th>4</th>\n",
       "      <td>1590655233</td>\n",
       "      <td>05-28-2020 10:40:33</td>\n",
       "      <td>2</td>\n",
       "      <td>1</td>\n",
       "      <td>2</td>\n",
       "    </tr>\n",
       "    <tr>\n",
       "      <th>5</th>\n",
       "      <td>1590655234</td>\n",
       "      <td>05-28-2020 10:40:34</td>\n",
       "      <td>2</td>\n",
       "      <td>1</td>\n",
       "      <td>2</td>\n",
       "    </tr>\n",
       "  </tbody>\n",
       "</table>\n",
       "</div>"
      ],
      "text/plain": [
       "              timestamp     timestamp_string  nombre_impressions  \\\n",
       "identifiant                                                        \n",
       "1            1590655231  05-28-2020 10:40:31                   2   \n",
       "2            1590655231  05-28-2020 10:40:31                   4   \n",
       "3            1590655232  05-28-2020 10:40:32                   3   \n",
       "4            1590655233  05-28-2020 10:40:33                   2   \n",
       "5            1590655234  05-28-2020 10:40:34                   2   \n",
       "\n",
       "             prix_impression  prix_total  \n",
       "identifiant                               \n",
       "1                          1           2  \n",
       "2                          1           4  \n",
       "3                          1           3  \n",
       "4                          1           2  \n",
       "5                          1           2  "
      ]
     },
     "execution_count": 19,
     "metadata": {},
     "output_type": "execute_result"
    }
   ],
   "source": [
    "df.head()"
   ]
  },
  {
   "cell_type": "markdown",
   "metadata": {},
   "source": [
    "### Etape 4 - Simulations sur plusieurs jours"
   ]
  },
  {
   "cell_type": "markdown",
   "metadata": {},
   "source": [
    "L'idée est de créer un environnement de simulation qui soit vraiment calqué sur un fonctionnement en temps réel. C'est-à-dire que si l'on suppose que les br peuvent être reçues entre 6h et 20h, alors la simulation \"tourne\" classiquement pendant ces horaires là et en dehors alors elle tournerait \"dans le vide\" mais le temps lui s'écoulerait quand même. Il y aurait alors quelque chose comme 3 états de la simulation : \n",
    "\n",
    "1. Juste avant l'ouverture, setup du cadre (affluence par heure des br etc.) \n",
    "2. Simulation de réception des br pendant la journée en fonction du cadre du jour\n",
    "3. Etat \"silencieux\" ou rien ne se passe jusqu'à la prochaine journée"
   ]
  },
  {
   "cell_type": "code",
   "execution_count": 62,
   "metadata": {},
   "outputs": [],
   "source": [
    "def total_sec(nb_jours):\n",
    "    tot = nb_jours * 86400\n",
    "    return tot"
   ]
  },
  {
   "cell_type": "code",
   "execution_count": 61,
   "metadata": {},
   "outputs": [],
   "source": [
    "def open_rtb(env, P, timestampnow, nb_jours, bidrequests, data):\n",
    "    dispo = panneaux_dispo(14, 1000)\n",
    "    lam_secondes = lambda_br(dispo)\n",
    "    current_hour = datetime.strptime(datetime.fromtimestamp(env.now).strftime(\"%m-%d-%Y %H:%M:%S\"), '%m-%d-%Y %H:%M:%S').hour\n",
    "    i = 0\n",
    "    identifiant = 0\n",
    "    while True:\n",
    "        # Déterminer dans quel état on est actuellement\n",
    "        if current_hour >= 6 and current_hour < 20:\n",
    "            if setup:\n",
    "                setup = False\n",
    "                dispo = panneaux_dispo(14, 1000)\n",
    "                lam_secondes = lambda_br(dispo)\n",
    "                current_hour = datetime.strptime(datetime.fromtimestamp(env.now).strftime(\"%m-%d-%Y %H:%M:%S\"), '%m-%d-%Y %H:%M:%S').hour\n",
    "                i = 0\n",
    "            \n",
    "            # Génération d'une br\n",
    "            identifiant += 1\n",
    "            rt = (timestampnow+total_sec(nb_jours))-env.now\n",
    "\n",
    "            #Timestamp de la br\n",
    "            time = datetime.fromtimestamp(env.now).strftime(\"%m-%d-%Y %H:%M:%S\")\n",
    "\n",
    "            # Nombre d'impressions\n",
    "            nb_imp = imps()\n",
    "            Prix = P * nb_imp\n",
    "\n",
    "             # Stocker les résultats dans le namedtuple puis ajout à une liste\n",
    "            resultats = bidrequests(\n",
    "                identifiant = identifiant,\n",
    "                timestamp = env.now,\n",
    "                timestamp_string = time,\n",
    "                nombre_impressions = nb_imp,\n",
    "                prix_impression = P,\n",
    "                prix_total = Prix\n",
    "            )\n",
    "            data.append(resultats)\n",
    "\n",
    "            # Detecter quelle heure est-t-il\n",
    "            if datetime.strptime(datetime.fromtimestamp(env.now).strftime(\"%m-%d-%Y %H:%M:%S\"), '%m-%d-%Y %H:%M:%S').hour != current_hour:\n",
    "                i += 1 \n",
    "                current_hour = datetime.strptime(datetime.fromtimestamp(env.now).strftime(\"%m-%d-%Y %H:%M:%S\"), '%m-%d-%Y %H:%M:%S').hour\n",
    "\n",
    "            # Temps avant la prochaine BR\n",
    "            # On passe par un try except au cas ou il y a un changement d'heure inattendu sur la fin de période\n",
    "            try:\n",
    "                time_before_next = delai(lam_secondes[i])\n",
    "            except IndexError:\n",
    "                time_before_next = delai(lam_secondes[i-1])\n",
    "\n",
    "\n",
    "            # Fin de la simulation\n",
    "            if rt < time_before_next:\n",
    "                print(f\"Fin de la simulation à {time} !\")\n",
    "\n",
    "            yield env.timeout(time_before_next)\n",
    "            \n",
    "        else:\n",
    "            setup = True\n",
    "            current_hour = datetime.strptime(datetime.fromtimestamp(env.now).strftime(\"%m-%d-%Y %H:%M:%S\"), '%m-%d-%Y %H:%M:%S').hour\n",
    "            time = datetime.fromtimestamp(env.now).strftime(\"%m-%d-%Y %H:%M:%S\")\n",
    "            rt = (timestampnow+total_sec(nb_jours))-env.now\n",
    "            if rt <= 1:\n",
    "                print(f\"Fin de la simulation à {time} !\")\n",
    "            yield env.timeout(1)  "
   ]
  },
  {
   "cell_type": "code",
   "execution_count": 64,
   "metadata": {},
   "outputs": [],
   "source": [
    "timestampnow = int(time.time()-3600*6)\n",
    "# Générer un named tuple pour stocker les résultats\n",
    "bidrequests =  namedtuple(\n",
    "    \"bidrequests\", \n",
    "    (\n",
    "        \"identifiant\", \n",
    "        \"timestamp\", \n",
    "        \"timestamp_string\",\n",
    "        \"nombre_impressions\",\n",
    "        \"prix_impression\",\n",
    "        \"prix_total\"\n",
    "    )\n",
    "                    )\n",
    "# Liste pour stocker les résultats du namedtuple\n",
    "data = list()\n",
    "env = simpy.Environment(initial_time=timestampnow)\n",
    "proc = env.process(open_rtb(env, 1, timestampnow, 5, bidrequests, data))"
   ]
  },
  {
   "cell_type": "code",
   "execution_count": 65,
   "metadata": {},
   "outputs": [
    {
     "name": "stdout",
     "output_type": "stream",
     "text": [
      "Fin de la simulation à 06-02-2020 05:40:15 !\n"
     ]
    }
   ],
   "source": [
    "env.run(until=timestampnow + total_sec(5))"
   ]
  },
  {
   "cell_type": "code",
   "execution_count": 66,
   "metadata": {},
   "outputs": [
    {
     "data": {
      "text/plain": [
       "18945"
      ]
     },
     "execution_count": 66,
     "metadata": {},
     "output_type": "execute_result"
    }
   ],
   "source": [
    "len(data)"
   ]
  },
  {
   "cell_type": "code",
   "execution_count": 67,
   "metadata": {},
   "outputs": [],
   "source": [
    "sauvegarde(data, 'donnees.csv')"
   ]
  }
 ],
 "metadata": {
  "kernelspec": {
   "display_name": "Python 3",
   "language": "python",
   "name": "python3"
  },
  "language_info": {
   "codemirror_mode": {
    "name": "ipython",
    "version": 3
   },
   "file_extension": ".py",
   "mimetype": "text/x-python",
   "name": "python",
   "nbconvert_exporter": "python",
   "pygments_lexer": "ipython3",
   "version": "3.7.6"
  }
 },
 "nbformat": 4,
 "nbformat_minor": 4
}
