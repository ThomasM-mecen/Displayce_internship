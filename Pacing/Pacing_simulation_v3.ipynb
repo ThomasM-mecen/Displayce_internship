{
 "cells": [
  {
   "cell_type": "markdown",
   "metadata": {},
   "source": [
    "# 3 eme Version - Amélioration du cadre d'analyse"
   ]
  },
  {
   "cell_type": "code",
   "execution_count": 7,
   "metadata": {},
   "outputs": [],
   "source": [
    "import numpy as np\n",
    "import random \n",
    "import simpy\n",
    "from scipy.stats import chi2"
   ]
  },
  {
   "cell_type": "markdown",
   "metadata": {},
   "source": [
    "L'objectif est d'améliorer le cadre de simulation de la version précédente en y implémentant un niveau d'aléatoiriété supplémentaire. En effet il faut implémenter le fait que le nombre de panneaux pouvant proposer des bid requests est variable et évolue dynamiquement. Ainsi, le délai entre chaque bid request ne suit plus seulement une loi à paramètre constant mais à paramètre variable. L'intérêt est ainsi de simuler le fait qu'à certaines heures de la journée le délai entre deux br est beaucoup plus court que d'autres heures.\n",
    "    \n",
    "Le second objectif est de pouvoir simuler ce qu'il s'est passé sur un jour, puis une semaine puis un mois par exemple et stocker les résultats dans un fichier (csv ou json par exemple) afin de réutiliser ces résultats dans la mise en place d'un algorithme de pacing plus élaboré que précédemment."
   ]
  },
  {
   "cell_type": "markdown",
   "metadata": {},
   "source": [
    "### Etape 1 - Générer les fonctions des variables aléatoires ainsi que les constantes"
   ]
  },
  {
   "cell_type": "code",
   "execution_count": 5,
   "metadata": {},
   "outputs": [],
   "source": [
    "# Constantes globales\n",
    "nombre_jours = 1 \n",
    "nombre_panneaux = 10000"
   ]
  },
  {
   "cell_type": "code",
   "execution_count": 29,
   "metadata": {},
   "outputs": [
    {
     "data": {
      "text/plain": [
       "array([0.83642402, 0.94099984, 0.7705799 , 0.88506604, 0.80623922,\n",
       "       0.89490328, 0.70311218, 0.81182573, 0.8721371 , 0.79208179])"
      ]
     },
     "execution_count": 29,
     "metadata": {},
     "output_type": "execute_result"
    }
   ],
   "source": [
    "np.random.normal(loc=0.8, scale=0.1, size=10)"
   ]
  },
  {
   "cell_type": "code",
   "execution_count": 15,
   "metadata": {},
   "outputs": [],
   "source": [
    "def delai(lam):\n",
    "    secondes = np.random.poisson(lam)\n",
    "    \n",
    "    #Simuler une proba de pb technique (2% de chance d'en avoir un)\n",
    "    if not random.random() < 0.98:\n",
    "        secondes = np.random.poisson(600)\n",
    "    return secondes"
   ]
  },
  {
   "cell_type": "code",
   "execution_count": 3,
   "metadata": {},
   "outputs": [],
   "source": [
    "def imps():\n",
    "    nb_imp = np.random.poisson(3)\n",
    "    return nb_imp"
   ]
  },
  {
   "cell_type": "code",
   "execution_count": null,
   "metadata": {},
   "outputs": [],
   "source": [
    "def bid_proba(p):\n",
    "    return random.random() < p"
   ]
  },
  {
   "cell_type": "code",
   "execution_count": null,
   "metadata": {},
   "outputs": [],
   "source": []
  },
  {
   "cell_type": "code",
   "execution_count": null,
   "metadata": {},
   "outputs": [],
   "source": []
  },
  {
   "cell_type": "code",
   "execution_count": null,
   "metadata": {},
   "outputs": [],
   "source": []
  },
  {
   "cell_type": "code",
   "execution_count": null,
   "metadata": {},
   "outputs": [],
   "source": []
  },
  {
   "cell_type": "code",
   "execution_count": null,
   "metadata": {},
   "outputs": [],
   "source": [
    "def open_rtb(env):\n",
    "    B = 30\n",
    "    duree_totale = 60\n",
    "    cible = B/duree_totale\n",
    "    while True:\n",
    "        # Nombre d'impressions\n",
    "        nb_imp = imps()\n",
    "        print(f\"bid request avec {nb_imp} impressions\")\n",
    "        number_imps_br.append(nb_imp)\n",
    "        \n",
    "        # Calcul du budget par seconde restant\n",
    "        rt = duree_totale - env.now\n",
    "        B_sec = B/rt\n",
    "        b_sec.append(B_sec)\n",
    "        print(f\"\\t Budget par sec de {B_sec} euros\")\n",
    "        \n",
    "        # Proba d'acheter\n",
    "        if B_sec >= cible:\n",
    "            proba = 1\n",
    "        else:\n",
    "            proba = 0\n",
    "        \n",
    "        # Achat ou pas\n",
    "        if bid_proba(proba):\n",
    "            B -= 1\n",
    "            print(f\"\\t Achat de {P} euros. Il reste {B} euros\")\n",
    "        else:\n",
    "            print(f\"\\t Pas d'achat. Il reste {B} euros\")\n",
    "        B_remain.append(B)\n",
    "        \n",
    "        # Temps restant de la simulation\n",
    "        print(f\"\\t Il reste {rt} secondes avant la fin de la simulation \\n\")\n",
    "        \n",
    "        # Temps avant la prochaine BR\n",
    "        time = delai() \n",
    "        \n",
    "        # Test pour faire des trucs a la fin de la simulation\n",
    "        if rt < time:\n",
    "            print(\"Fin de la simulation\")\n",
    "            print(f\"Le budget restant est de {B} euros\")\n",
    "        yield env.timeout(time)"
   ]
  }
 ],
 "metadata": {
  "kernelspec": {
   "display_name": "Python 3",
   "language": "python",
   "name": "python3"
  },
  "language_info": {
   "codemirror_mode": {
    "name": "ipython",
    "version": 3
   },
   "file_extension": ".py",
   "mimetype": "text/x-python",
   "name": "python",
   "nbconvert_exporter": "python",
   "pygments_lexer": "ipython3",
   "version": "3.7.6"
  }
 },
 "nbformat": 4,
 "nbformat_minor": 4
}
