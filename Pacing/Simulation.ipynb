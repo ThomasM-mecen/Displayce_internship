{
 "cells": [
  {
   "cell_type": "markdown",
   "metadata": {},
   "source": [
    "# Simulation "
   ]
  },
  {
   "cell_type": "markdown",
   "metadata": {},
   "source": [
    "### Import des librairies"
   ]
  },
  {
   "cell_type": "code",
   "execution_count": 46,
   "metadata": {},
   "outputs": [],
   "source": [
    "import numpy as np\n",
    "import random \n",
    "import simpy\n",
    "import time\n",
    "import csv\n",
    "from collections import namedtuple\n",
    "from datetime import datetime\n",
    "from datetime import timedelta"
   ]
  },
  {
   "cell_type": "markdown",
   "metadata": {},
   "source": [
    "### Fonctions internes à la simulation"
   ]
  },
  {
   "cell_type": "code",
   "execution_count": 47,
   "metadata": {},
   "outputs": [],
   "source": [
    "def imps():\n",
    "    \"\"\"Fonction qui génère un nombre d'impressions devant un panneau\"\"\"\n",
    "    lam = int(np.random.normal(loc=4, scale=2, size=1))\n",
    "    if lam < 1:\n",
    "        lam = 1\n",
    "    nb_imp = np.random.poisson(lam)\n",
    "    return nb_imp"
   ]
  },
  {
   "cell_type": "code",
   "execution_count": 48,
   "metadata": {},
   "outputs": [],
   "source": [
    "def delai(lam):\n",
    "    \"\"\"Fonction qui génère un nombre de secondes avant la prochaine br grâce à une loi de poisson de paramètre lambda\"\"\"\n",
    "    secondes = np.random.poisson(lam)\n",
    "        \n",
    "    #Simuler une proba de pb technique (1% de chance d'en avoir un)\n",
    "    if not random.random() < 0.99:\n",
    "        secondes = np.random.poisson(secondes + 1000)\n",
    "    return secondes"
   ]
  },
  {
   "cell_type": "code",
   "execution_count": 49,
   "metadata": {},
   "outputs": [],
   "source": [
    "def sauvegarde(liste, nom_de_fichier):\n",
    "    \"\"\"Fonction pour sauvegarder un named tuple dans un format CSV\"\"\"\n",
    "    with open(nom_de_fichier, \"w\", encoding=\"utf8\") as fichier:\n",
    "        #Recuperer le nom des colonnes pour la première ligne\n",
    "        premier, *_ = liste\n",
    "        ecrivain = csv.DictWriter(fichier, premier._fields)\n",
    "        ecrivain.writeheader()\n",
    "        for br in liste:\n",
    "            # On ecrit chaque ligne comme un ordered dict\n",
    "            ecrivain.writerow(br._asdict())"
   ]
  },
  {
   "cell_type": "markdown",
   "metadata": {},
   "source": [
    "### Fonction de la simulation"
   ]
  },
  {
   "cell_type": "code",
   "execution_count": 50,
   "metadata": {},
   "outputs": [],
   "source": [
    "def open_rtb_pacing_double_algo(env, P, timestampnow, nb_jours, nb_hours_per_day, bidrequests, data):\n",
    "    \"\"\"Fonction pour générer la simulation\"\"\"\n",
    "    day = datetime.now().day\n",
    "    month = datetime.now().month\n",
    "    year = datetime.now().year\n",
    "    next_date = datetime(year,month,day,6,0,0,0)\n",
    "    setup = True\n",
    "    identifiant = 0\n",
    "    while True:\n",
    "        # Déterminer dans quel état on est actuellement\n",
    "        current_hour = datetime.fromtimestamp(env.now).hour\n",
    "        if current_hour >= 6 and current_hour < 20:\n",
    "            if setup:\n",
    "                setup = False\n",
    "                next_date += timedelta(days=1)\n",
    "                lambdas_seuils = np.array([1,60,30,5])\n",
    "                timestamps_seuils = np.array([env.now,env.now+32400,env.now+39600,env.now+54000])\n",
    "                f_lambdas = interp1d(timestamps_seuils, lambdas_seuils)\n",
    "                \n",
    "            # Génération d'une br\n",
    "            identifiant += 1\n",
    "            \n",
    "            #Timestamp de la br\n",
    "            time = datetime.fromtimestamp(env.now).strftime(\"%m-%d-%Y %H:%M:%S\")\n",
    "\n",
    "            # Nombre d'impressions\n",
    "            nb_imp = imps()\n",
    "            Prix = P * nb_imp\n",
    "\n",
    "            # Stocker les résultats dans le namedtuple puis ajout à une liste\n",
    "            resultats = bidrequests(\n",
    "                identifiant = identifiant,\n",
    "                timestamp = env.now,\n",
    "                timestamp_string = time,\n",
    "                nombre_impressions = nb_imp,\n",
    "                prix_impression = P,\n",
    "                prix_total = Prix\n",
    "            )\n",
    "            data.append(resultats)\n",
    "\n",
    "            # Temps avant la prochaine BR\n",
    "            time_before_next = delai(f_lambdas(env.now))\n",
    "            \n",
    "            # Temps restant avant la fin de la simulation\n",
    "            rt = timestampnow + timedelta(days = nb_jours).total_seconds() - env.now\n",
    "\n",
    "            # Fin de la simulation\n",
    "            if rt < time_before_next:\n",
    "                print(f\"Fin de la simulation à {datetime.fromtimestamp(env.now)} !\")\n",
    "\n",
    "            yield env.timeout(time_before_next)\n",
    "\n",
    "        else:\n",
    "            time_to_wait = datetime.timestamp(next_date) - env.now\n",
    "            setup = True\n",
    "            current_hour = datetime.fromtimestamp(env.now).hour\n",
    "            rt = timestampnow + timedelta(days = nb_jours).total_seconds() - env.now\n",
    "            if rt <= time_to_wait:\n",
    "                print(f\"Fin de la simulation à {datetime.fromtimestamp(env.now)} !\")\n",
    "            yield env.timeout(time_to_wait) "
   ]
  },
  {
   "cell_type": "code",
   "execution_count": 52,
   "metadata": {},
   "outputs": [
    {
     "name": "stdout",
     "output_type": "stream",
     "text": [
      "Fin de la simulation à 2020-08-04 20:07:34 !\n"
     ]
    }
   ],
   "source": [
    "timestampnow = datetime.timestamp(datetime(2020,7,6,6,0,0,0))\n",
    "bidrequests =  namedtuple(\n",
    "    \"bidrequests\", \n",
    "    (\n",
    "        \"identifiant\", \n",
    "        \"timestamp\", \n",
    "        \"timestamp_string\",\n",
    "        \"nombre_impressions\",\n",
    "        \"prix_impression\",\n",
    "        \"prix_total\"\n",
    "    )\n",
    "                    )\n",
    "data = list()\n",
    "env = simpy.Environment(initial_time=timestampnow)\n",
    "proc = env.process(open_rtb_pacing_double_algo(env = env, P = 1, timestampnow = timestampnow, \n",
    "                                               nb_jours = 30, nb_hours_per_day = 14, \n",
    "                                               bidrequests = bidrequests, data = data))\n",
    "env.run(until=timestampnow + timedelta(days = 30).total_seconds())"
   ]
  },
  {
   "cell_type": "code",
   "execution_count": 53,
   "metadata": {},
   "outputs": [],
   "source": [
    "sauvegarde(data, '06-07-2020_04-08-2020.csv')"
   ]
  }
 ],
 "metadata": {
  "kernelspec": {
   "display_name": "Python 3",
   "language": "python",
   "name": "python3"
  },
  "language_info": {
   "codemirror_mode": {
    "name": "ipython",
    "version": 3
   },
   "file_extension": ".py",
   "mimetype": "text/x-python",
   "name": "python",
   "nbconvert_exporter": "python",
   "pygments_lexer": "ipython3",
   "version": "3.7.6"
  }
 },
 "nbformat": 4,
 "nbformat_minor": 4
}
