{
 "cells": [
  {
   "cell_type": "markdown",
   "metadata": {},
   "source": [
    "# Simulation "
   ]
  },
  {
   "cell_type": "markdown",
   "metadata": {},
   "source": [
    "### Import modules"
   ]
  },
  {
   "cell_type": "code",
   "execution_count": 1,
   "metadata": {},
   "outputs": [],
   "source": [
    "import numpy as np\n",
    "import random \n",
    "import simpy\n",
    "import time\n",
    "import csv\n",
    "from collections import namedtuple\n",
    "from datetime import datetime\n",
    "from datetime import timedelta\n",
    "from scipy.interpolate import interp1d"
   ]
  },
  {
   "cell_type": "markdown",
   "metadata": {},
   "source": [
    "### Functions for the simulations"
   ]
  },
  {
   "cell_type": "code",
   "execution_count": 2,
   "metadata": {},
   "outputs": [],
   "source": [
    "def imps():\n",
    "    \"\"\"Funtions that generates the number of impressions for a br\n",
    "    \n",
    "    \"\"\"\n",
    "    lam = int(np.random.normal(loc=4, scale=2, size=1))\n",
    "    if lam < 1:\n",
    "        lam = 1\n",
    "    nb_imp = np.random.poisson(lam)\n",
    "    return nb_imp"
   ]
  },
  {
   "cell_type": "code",
   "execution_count": 3,
   "metadata": {},
   "outputs": [],
   "source": [
    "def delay(lam):\n",
    "    \"\"\"Function that generates a number of seconds before the next br following a Poisson law \n",
    "    of lambda parameter.\n",
    "    \n",
    "    Arguments:\n",
    "    :lam: expected number of seconds \n",
    "    \"\"\"\n",
    "    seconds = np.random.poisson(lam)\n",
    "    # 1% probability of technical error\n",
    "    if not random.random() < 0.99:\n",
    "        seconds = np.random.poisson(seconds + 1000)\n",
    "    return seconds"
   ]
  },
  {
   "cell_type": "code",
   "execution_count": 4,
   "metadata": {},
   "outputs": [],
   "source": [
    "def saving(data, filename):\n",
    "    \"\"\"Function to save a named tuple to CSV\n",
    "    \n",
    "    Arguments:\n",
    "    :data: A list of named tuple to transform into CSV\n",
    "    :filename: Name of the file to create\n",
    "    \"\"\"\n",
    "    with open(filename, \"w\", encoding=\"utf8\") as file:\n",
    "        #Column name for first row\n",
    "        first, *_ = data\n",
    "        writer = csv.DictWriter(file, first._fields)\n",
    "        writer.writeheader()\n",
    "        for br in data:\n",
    "            writer.writerow(br._asdict())"
   ]
  },
  {
   "cell_type": "markdown",
   "metadata": {},
   "source": [
    "### Simulation function"
   ]
  },
  {
   "cell_type": "code",
   "execution_count": 5,
   "metadata": {},
   "outputs": [],
   "source": [
    "def open_rtb(env, P, timestampnow, nb_days, nb_hours_per_day, bidrequests, data):\n",
    "    \"\"\"Function to simulate BR\n",
    "    \n",
    "    Arguments:\n",
    "    :env: A Simpy environment\n",
    "    :P: Fix price of 1 impression\n",
    "    :timestampnow: Timestamp when the simulation starts\n",
    "    :nb_days: Number of days to simulate\n",
    "    :nb_hours_per_days: Number of opening hours of the br\n",
    "    :bidrequests: A named tuple to store data\n",
    "    :data: An empty list\n",
    "    \"\"\"\n",
    "    day = datetime.now().day\n",
    "    month = datetime.now().month\n",
    "    year = datetime.now().year\n",
    "    next_date = datetime(year,month,day,6,0,0,0)\n",
    "    setup = True\n",
    "    ID = 0\n",
    "    while True:\n",
    "        # Are we in opening hours?\n",
    "        current_hour = datetime.fromtimestamp(env.now).hour\n",
    "        if current_hour >= 6 and current_hour < 20:\n",
    "            if setup:\n",
    "                setup = False\n",
    "                next_date += timedelta(days=1)\n",
    "                lambdas_limits = np.array([1,60,30,5])\n",
    "                timestamps_limits = np.array([env.now,env.now+32400,env.now+39600,env.now+54000])\n",
    "                f_lambdas = interp1d(timestamps_limits, lambdas_limits)\n",
    "                \n",
    "            # Generate a br\n",
    "            ID += 1\n",
    "            \n",
    "            # Timestamp of br\n",
    "            time = datetime.fromtimestamp(env.now).strftime(\"%m-%d-%Y %H:%M:%S\")\n",
    "\n",
    "            # Number of impressions\n",
    "            nb_imp = imps()\n",
    "            price = P * nb_imp\n",
    "            \n",
    "            # Win/loose and number of seconds before the notification\n",
    "            seconds_notif = random.randint(2,900)\n",
    "            if not random.random() < 0.95:\n",
    "                win = False\n",
    "            else:\n",
    "                win = True\n",
    "\n",
    "            # Storing data\n",
    "            results = bidrequests(\n",
    "                ID = ID,\n",
    "                timestamp = env.now,\n",
    "                timestamp_string = time,\n",
    "                nb_imp = nb_imp,\n",
    "                price = price,\n",
    "                win = win,\n",
    "                seconds_notif = seconds_notif\n",
    "            )\n",
    "            data.append(results)\n",
    "\n",
    "            # Time before next BR\n",
    "            time_before_next = delay(f_lambdas(env.now))\n",
    "            \n",
    "            # Remaining time before the end of the simulation\n",
    "            rt = timestampnow + timedelta(days = nb_days).total_seconds() - env.now\n",
    "\n",
    "            # End of the simulation\n",
    "            if rt < time_before_next:\n",
    "                print(f\"End of simulation at {datetime.fromtimestamp(env.now)}\")\n",
    "\n",
    "            yield env.timeout(time_before_next)\n",
    "\n",
    "        else:\n",
    "            time_to_wait = datetime.timestamp(next_date) - env.now\n",
    "            setup = True\n",
    "            current_hour = datetime.fromtimestamp(env.now).hour\n",
    "            rt = timestampnow + timedelta(days = nb_days).total_seconds() - env.now\n",
    "            if rt <= time_to_wait:\n",
    "                print(f\"End of simulation at {datetime.fromtimestamp(env.now)}\")\n",
    "            yield env.timeout(time_to_wait) "
   ]
  },
  {
   "cell_type": "code",
   "execution_count": 6,
   "metadata": {},
   "outputs": [
    {
     "name": "stdout",
     "output_type": "stream",
     "text": [
      "End of simulation at 2020-08-07 20:00:04\n"
     ]
    }
   ],
   "source": [
    "timestampnow = datetime.timestamp(datetime(2020,7,9,6,0,0,0))\n",
    "bidrequests =  namedtuple(\n",
    "    \"bidrequests\", \n",
    "    (\n",
    "        \"ID\", \n",
    "        \"timestamp\", \n",
    "        \"timestamp_string\",\n",
    "        \"nb_imp\",\n",
    "        \"price\",\n",
    "        \"win\",\n",
    "        \"seconds_notif\"\n",
    "    )\n",
    "                    )\n",
    "data = list()\n",
    "env = simpy.Environment(initial_time=timestampnow)\n",
    "proc = env.process(open_rtb(env = env, P = 1, timestampnow = timestampnow, \n",
    "                                               nb_days = 30, nb_hours_per_day = 14, \n",
    "                                               bidrequests = bidrequests, data = data))\n",
    "env.run(until=timestampnow + timedelta(days = 30).total_seconds())"
   ]
  },
  {
   "cell_type": "code",
   "execution_count": 8,
   "metadata": {},
   "outputs": [],
   "source": [
    "saving(data, '09-07-2020_07-08-2020.csv')"
   ]
  },
  {
   "cell_type": "code",
   "execution_count": null,
   "metadata": {},
   "outputs": [],
   "source": []
  }
 ],
 "metadata": {
  "kernelspec": {
   "display_name": "Python 3",
   "language": "python",
   "name": "python3"
  },
  "language_info": {
   "codemirror_mode": {
    "name": "ipython",
    "version": 3
   },
   "file_extension": ".py",
   "mimetype": "text/x-python",
   "name": "python",
   "nbconvert_exporter": "python",
   "pygments_lexer": "ipython3",
   "version": "3.7.6"
  }
 },
 "nbformat": 4,
 "nbformat_minor": 4
}
