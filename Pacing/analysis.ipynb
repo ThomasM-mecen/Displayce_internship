{
 "cells": [
  {
   "cell_type": "markdown",
   "metadata": {},
   "source": [
    "# Study of historical data"
   ]
  },
  {
   "cell_type": "code",
   "execution_count": 1,
   "metadata": {},
   "outputs": [],
   "source": [
    "import json\n",
    "from datetime import datetime\n",
    "import pandas as pd\n",
    "import matplotlib.pyplot as plt\n",
    "from loguru import logger\n",
    "\n",
    "# global constants\n",
    "filename = 'sample-br-100.jsonl'\n",
    "# N_LINES=5000\n",
    "N_LINES=None\n",
    "\n",
    "def parse_file(n_lines=None):\n",
    "\twith open(filename) as infile:\n",
    "\t\tif n_lines is not None: # only read at most n_lines\n",
    "\t\t\tfile_iterator = itertools.islice(infile,0,n_lines)\n",
    "\t\telse:\n",
    "\t\t\tfile_iterator = infile\n",
    "\t\tall_dict = list(map(json.loads,file_iterator))\n",
    "\t\tlogger.info(\"Loaded {} rows\",len(all_dict))\n",
    "\t\treturn all_dict"
   ]
  },
  {
   "cell_type": "code",
   "execution_count": 2,
   "metadata": {},
   "outputs": [
    {
     "name": "stderr",
     "output_type": "stream",
     "text": [
      "2020-07-16 11:39:31.917 | INFO     | __main__:parse_file:19 - Loaded 100 rows\n"
     ]
    }
   ],
   "source": [
    "all_dicts = parse_file(n_lines=N_LINES)"
   ]
  },
  {
   "cell_type": "code",
   "execution_count": null,
   "metadata": {},
   "outputs": [],
   "source": []
  }
 ],
 "metadata": {
  "kernelspec": {
   "display_name": "Python 3",
   "language": "python",
   "name": "python3"
  },
  "language_info": {
   "codemirror_mode": {
    "name": "ipython",
    "version": 3
   },
   "file_extension": ".py",
   "mimetype": "text/x-python",
   "name": "python",
   "nbconvert_exporter": "python",
   "pygments_lexer": "ipython3",
   "version": "3.7.6"
  }
 },
 "nbformat": 4,
 "nbformat_minor": 4
}
